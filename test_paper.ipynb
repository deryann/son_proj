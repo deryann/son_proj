{
 "cells": [
  {
   "cell_type": "markdown",
   "metadata": {},
   "source": [
    "設定一些單字的解釋與例句的靜態資料，挖空出題，亂數改變題號，並且附上簡單的解答"
   ]
  },
  {
   "cell_type": "code",
   "execution_count": null,
   "metadata": {},
   "outputs": [],
   "source": [
    "output_folder = 'output'\n",
    "\n",
    "answers = ['reluctantly', 'muttered', 'grinned', 'promptly', 'mudflow', 'rockslide', 'deposition', 'sand dune']\n",
    "\n",
    "str_datas =\"\"\"in an unwilling and hesitant way\n",
    "to speak quietly so that it is difficult for other people to hear what you say\n",
    "to smile widely\n",
    "done or given without delay\n",
    "the quick movement of very wet soil\n",
    "the quick movement of rocks down a slope\n",
    "the placing of pieces of Earth's surface in a new place\n",
    "a mound of sand created by the wind\"\"\"\n",
    "\n",
    "statement = \"\"\"She reluctantly agreed to wear the pink dress. \n",
    "She angrily muttered about having to clean the house. \n",
    "My brother grinned when he heard me getting told off. \n",
    "I promptly handed in my homework. \n",
    "Many farmers lost their rice farms in the mudflow. \n",
    "The rockslide sent massive rocks flying down the mountain towards the village. \n",
    "New islands can form as a result of deposition. \n",
    "I climbed all the way to the top of the sand dune, and then slid down.\"\"\""
   ]
  },
  {
   "cell_type": "code",
   "execution_count": null,
   "metadata": {},
   "outputs": [],
   "source": [
    "import docx\n",
    "import os \n",
    "from docx.shared import Inches, Cm\n",
    "\n",
    "os.makedirs(output_folder, exist_ok=True)\n",
    "def change_margins(doc):\n",
    "    sections = doc.sections\n",
    "    for section in sections:\n",
    "        section.top_margin = Cm(2)\n",
    "        section.bottom_margin = Cm(2)\n",
    "        section.left_margin = Cm(2)\n",
    "        section.right_margin = Cm(2)\n",
    "    return doc "
   ]
  },
  {
   "cell_type": "code",
   "execution_count": null,
   "metadata": {},
   "outputs": [],
   "source": [
    "\n",
    "\n",
    "lst_data = str_datas.split(\"\\n\")\n",
    "lst_1st_q_a = []\n",
    "for k, item in enumerate(lst_data):\n",
    "    lst_1st_q_a.append([item, answers[k]])\n"
   ]
  },
  {
   "cell_type": "code",
   "execution_count": null,
   "metadata": {},
   "outputs": [],
   "source": [
    "import random\n",
    "import time\n",
    "import random\n",
    "\n",
    "# Get the current timestamp\n",
    "timestamp = int(time.time())\n",
    "\n",
    "# Set the random seed using the timestamp\n",
    "random.seed(timestamp)\n",
    "\n",
    "# Generate a random number\n",
    "random_number = random.randint(1, 100)\n",
    "\n",
    "print(\"Timestamp:\", timestamp)\n",
    "print(\"Random Number:\", random_number)\n",
    "\n",
    "random.shuffle(lst_1st_q_a)\n",
    "\n"
   ]
  },
  {
   "cell_type": "code",
   "execution_count": null,
   "metadata": {},
   "outputs": [],
   "source": [
    "from docx import Document\n",
    "from docx.shared import Inches\n",
    "import os \n",
    "document = Document()\n",
    "document.add_heading('TEST', 0)\n",
    "document.add_heading('1st', 1)\n",
    "blank_line = ' ________________ '\n",
    "\n",
    "for items in lst_1st_q_a:\n",
    "    item = items[0]\n",
    "    document.add_paragraph( blank_line + ': '+ item)\n",
    "\n"
   ]
  },
  {
   "cell_type": "code",
   "execution_count": null,
   "metadata": {},
   "outputs": [],
   "source": [
    "\n",
    "lst_statement = statement.split(\"\\n\")\n",
    "len(lst_statement)\n",
    "\n",
    "\n",
    "if len(lst_statement) == len(answers):\n",
    "    document.add_heading('2nd:', 1)\n",
    "    q_and_a_list = []\n",
    "\n",
    "    for i in range(len(lst_statement)):\n",
    "\n",
    "        question = lst_statement[i].replace(answers[i], blank_line)\n",
    "        q_and_a_list.append([question, answers[i]])\n",
    "\n",
    "    random.shuffle(q_and_a_list)\n",
    "    for item in q_and_a_list:\n",
    "        document.add_paragraph(item[0])\n",
    "\n",
    "else:\n",
    "    print(\"The number of answers does not match the number of statements. Please check again.\")\n",
    "\n"
   ]
  },
  {
   "cell_type": "code",
   "execution_count": null,
   "metadata": {},
   "outputs": [],
   "source": [
    "from docx import Document\n",
    "from docx.shared import Pt\n",
    "\n",
    "document.add_page_break()\n",
    "str_ans = ''\n",
    "for k, items in enumerate(lst_1st_q_a):\n",
    "    item = items[1]\n",
    "    str_ans += f'{k+1}. {item}\\t'\n",
    "\n",
    "document.add_paragraph('1st Answer: ' +str_ans)\n",
    "\n",
    "str_ans = ''\n",
    "for k, item in enumerate(q_and_a_list):\n",
    "    str_ans+= f'{k+1}. {item[1]}\\t' \n",
    "document.add_paragraph('2nd Answer: ' +str_ans)\n",
    "document=change_margins(document)\n",
    "\n",
    "def change_font_size(doc, font_size):\n",
    "    # Change the font size of all paragraphs in the document\n",
    "    for paragraph in doc.paragraphs:\n",
    "        for run in paragraph.runs:\n",
    "            run.font.size = Pt(font_size)\n",
    "            font_name = 'Comic Sans MS'\n",
    "            run.font.name = font_name \n",
    "    return doc\n",
    "\n",
    "\n",
    "change_font_size(document, 13)\n",
    "filename = os.path.join(output_folder, 'demo.docx')\n",
    "document.save(filename)"
   ]
  },
  {
   "cell_type": "code",
   "execution_count": null,
   "metadata": {},
   "outputs": [],
   "source": []
  }
 ],
 "metadata": {
  "kernelspec": {
   "display_name": "base",
   "language": "python",
   "name": "python3"
  },
  "language_info": {
   "codemirror_mode": {
    "name": "ipython",
    "version": 3
   },
   "file_extension": ".py",
   "mimetype": "text/x-python",
   "name": "python",
   "nbconvert_exporter": "python",
   "pygments_lexer": "ipython3",
   "version": "3.11.5"
  }
 },
 "nbformat": 4,
 "nbformat_minor": 2
}
