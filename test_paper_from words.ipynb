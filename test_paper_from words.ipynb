{
 "cells": [
  {
   "cell_type": "code",
   "execution_count": null,
   "metadata": {},
   "outputs": [],
   "source": [
    "import pandas as pd "
   ]
  },
  {
   "cell_type": "code",
   "execution_count": null,
   "metadata": {},
   "outputs": [],
   "source": []
  },
  {
   "cell_type": "code",
   "execution_count": null,
   "metadata": {},
   "outputs": [],
   "source": [
    "filename = r'words\\words_m.txt'\n",
    "\n",
    "lst = []\n",
    "with open(filename, 'r') as f:\n",
    "    for line in f:\n",
    "        _lst = line.strip().split()\n",
    "        try : \n",
    "            if not _lst[0].isdigit() and len(_lst) >= 3:\n",
    "                _lst = _lst[1:]\n",
    "            n = int(_lst[0])\n",
    "            if 0<=n<=700:\n",
    "                if len(_lst) >= 3:\n",
    "                    lst.append(_lst)\n",
    "        except:\n",
    "            #print(line)\n",
    "            continue\n",
    "lst\n",
    "        "
   ]
  },
  {
   "cell_type": "code",
   "execution_count": null,
   "metadata": {},
   "outputs": [],
   "source": [
    "print (len(lst))\n",
    "lst_out = [] \n",
    "\n",
    "for k, item  in enumerate(lst) :\n",
    "    print(k, item)\n",
    "    try:\n",
    "        if len(item) >= 3:\n",
    "            _lst = []\n",
    "            _lst.append(item[0])\n",
    "            _lst.append(' '.join(item[1:-1]))\n",
    "            _lst.append(item[-1])\n",
    "            lst_out.append(_lst)\n",
    "    except:\n",
    "        #print(k,item)\n",
    "        continue    \n",
    "df = pd.DataFrame(lst_out, columns=['n', 'word', 'zh_tw'])\n",
    "df['fill'] = '_____________________'\n"
   ]
  },
  {
   "cell_type": "code",
   "execution_count": null,
   "metadata": {},
   "outputs": [],
   "source": []
  },
  {
   "cell_type": "code",
   "execution_count": null,
   "metadata": {},
   "outputs": [],
   "source": [
    "# 出50 題 看英 拚中\n",
    "import datetime\n",
    "yyyymmddhhmmss = datetime.datetime.now().strftime('%Y%m%d_%H%M%S')\n",
    "random_state = int(yyyymmddhhmmss[-6:])\n",
    "df200 = df.sample(200, random_state=random_state)\n",
    "df_s50  = df200.head(100)\n",
    "df_s50.to_excel(f'{yyyymmddhhmmss}_en_2_tw_ans.xlsx', index=False)\n",
    "df_s50.drop(columns=['zh_tw']).to_excel(f'{yyyymmddhhmmss}_en_2_tw_q.xlsx', index=False)"
   ]
  },
  {
   "cell_type": "code",
   "execution_count": null,
   "metadata": {},
   "outputs": [],
   "source": [
    "# 出50 題 看英 拚中\n",
    "df_s50  = df200.tail(100)\n",
    "df_s50.to_excel(f'{yyyymmddhhmmss}_tw_2_en_ans.xlsx', index=False)\n",
    "df_s50.drop(columns=['word']).to_excel(f'{yyyymmddhhmmss}_tw_2_en_q.xlsx', index=False)"
   ]
  },
  {
   "cell_type": "code",
   "execution_count": null,
   "metadata": {},
   "outputs": [],
   "source": [
    "df_s50.columns"
   ]
  }
 ],
 "metadata": {
  "kernelspec": {
   "display_name": "base",
   "language": "python",
   "name": "python3"
  },
  "language_info": {
   "codemirror_mode": {
    "name": "ipython",
    "version": 3
   },
   "file_extension": ".py",
   "mimetype": "text/x-python",
   "name": "python",
   "nbconvert_exporter": "python",
   "pygments_lexer": "ipython3",
   "version": "3.11.5"
  }
 },
 "nbformat": 4,
 "nbformat_minor": 2
}
